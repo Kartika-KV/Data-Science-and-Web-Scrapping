{
 "cells": [
  {
   "cell_type": "markdown",
   "id": "82efa564",
   "metadata": {},
   "source": [
    "Submitted By Kartika \n",
    "\n",
    "BTECH CSE\n",
    "\n",
    "Guru Nanak Dev Engineering College,Ludhiana "
   ]
  },
  {
   "cell_type": "markdown",
   "id": "7f4edc7c",
   "metadata": {},
   "source": [
    "### Web Scrapping on Job Finder Website"
   ]
  },
  {
   "cell_type": "markdown",
   "id": "d8295ca3",
   "metadata": {},
   "source": [
    "In this notebook I had tried Scrapping a job Finder Website [Times Job](https://www.timesjobs.com/) using Beautiful Soup in Python"
   ]
  },
  {
   "cell_type": "code",
   "execution_count": 2,
   "id": "0b21d6b3",
   "metadata": {},
   "outputs": [],
   "source": [
    "from bs4 import BeautifulSoup\n",
    "import requests "
   ]
  },
  {
   "cell_type": "markdown",
   "id": "1b43cd0f",
   "metadata": {},
   "source": [
    "We will Scrape Website for Jobs Related to Python [Jobs based on python](https://www.timesjobs.com/candidate/job-search.html?searchType=personalizedSearch&from=submit&txtKeywords=python&txtLocation=)"
   ]
  },
  {
   "cell_type": "code",
   "execution_count": 5,
   "id": "45f947f7",
   "metadata": {},
   "outputs": [
    {
     "data": {
      "text/plain": [
       "<Response [200]>"
      ]
     },
     "execution_count": 5,
     "metadata": {},
     "output_type": "execute_result"
    }
   ],
   "source": [
    "html_text=requests.get('https://www.timesjobs.com/candidate/job-search.html?searchType=personalizedSearch&from=submit&txtKeywords=python&txtLocation=')\n",
    "html_text"
   ]
  },
  {
   "cell_type": "code",
   "execution_count": 3,
   "id": "89c0dfa3",
   "metadata": {},
   "outputs": [],
   "source": [
    "html_text=requests.get('https://www.timesjobs.com/candidate/job-search.html?searchType=personalizedSearch&from=submit&txtKeywords=python&txtLocation=').text\n"
   ]
  },
  {
   "cell_type": "markdown",
   "id": "ff8bb5e2",
   "metadata": {},
   "source": [
    "Using Find functionality of BeautifulSoup we can Scrape Company name,Required Skills for all jobs available under Python in Website"
   ]
  },
  {
   "cell_type": "code",
   "execution_count": 3,
   "id": "6626c8a4",
   "metadata": {},
   "outputs": [],
   "source": [
    "soup=BeautifulSoup(html_text,'lxml')\n",
    "jobs=soup.find('li',class_=\"clearfix job-bx wht-shd-bx\")"
   ]
  },
  {
   "cell_type": "code",
   "execution_count": 4,
   "id": "c6b84eff",
   "metadata": {},
   "outputs": [
    {
     "name": "stdout",
     "output_type": "stream",
     "text": [
      "\r\n",
      "Surya Informatics Solutions Pvt. Ltd.\r\n",
      "\r\n",
      "\n"
     ]
    }
   ],
   "source": [
    "company_name=jobs.find('h3',class_=\"joblist-comp-name\").text.replace('  ','')\n",
    "print(company_name)"
   ]
  },
  {
   "cell_type": "code",
   "execution_count": 5,
   "id": "de08bb5b",
   "metadata": {},
   "outputs": [
    {
     "name": "stdout",
     "output_type": "stream",
     "text": [
      "\n",
      "python,web technologies,linux,mobile,mysql,angularjs,javascript\r\n",
      "\r\n",
      "\n"
     ]
    }
   ],
   "source": [
    "skills=jobs.find('span',class_=\"srp-skills\").text.replace('  ','')\n",
    "print(skills)"
   ]
  },
  {
   "cell_type": "code",
   "execution_count": 7,
   "id": "c1324292",
   "metadata": {},
   "outputs": [
    {
     "name": "stdout",
     "output_type": "stream",
     "text": [
      "\n",
      "company_name : \r\n",
      "Surya Informatics Solutions Pvt. Ltd.\r\n",
      "\r\n",
      "\n",
      "Required_Skills : \n",
      "python,web technologies,linux,mobile,mysql,angularjs,javascript\r\n",
      "\r\n",
      "\n",
      "\n",
      "\n"
     ]
    }
   ],
   "source": [
    "print(f'''\n",
    "company_name : {company_name}\n",
    "Required_Skills : {skills}\n",
    "\n",
    "''')"
   ]
  },
  {
   "cell_type": "markdown",
   "id": "80ec1e0d",
   "metadata": {},
   "source": [
    "We will Scrape only those jobs which were Publish Few Days Before So we had stored information related to that in published_date variable"
   ]
  },
  {
   "cell_type": "code",
   "execution_count": 8,
   "id": "a980dbd8",
   "metadata": {},
   "outputs": [
    {
     "name": "stdout",
     "output_type": "stream",
     "text": [
      "\n",
      "Posted few days ago\n",
      "\n"
     ]
    }
   ],
   "source": [
    "published_date=jobs.find('span',class_=\"sim-posted\").text\n",
    "print(published_date)"
   ]
  },
  {
   "cell_type": "markdown",
   "id": "608fb9b7",
   "metadata": {},
   "source": [
    "## Looping through similar soup.find_all() objects\n",
    "\n",
    "we will loop through all similar soup.find_all() object to extract information related to all Jobs related to Python as Required Skill.\n",
    "More_info variable is also provided for url related to that Job"
   ]
  },
  {
   "cell_type": "code",
   "execution_count": 9,
   "id": "7bc45818",
   "metadata": {},
   "outputs": [
    {
     "name": "stdout",
     "output_type": "stream",
     "text": [
      "Company Name :Surya Informatics Solutions Pvt. Ltd.\n",
      "Required Skills:python,web technologies,linux,mobile,mysql,angularjs,javascript\n",
      "More Info: https://www.timesjobs.com/job-detail/python-surya-informatics-solutions-pvt-ltd-chennai-0-to-3-yrs-jobid-UVlLes58wutzpSvf__PLUS__uAgZw==&source=srp\n",
      "\n",
      "Company Name :Pure Tech Codex Private Limited\n",
      "Required Skills:rest,python,database,django,debugging,mongodb\n",
      "More Info: https://www.timesjobs.com/job-detail/python-pure-tech-codex-private-limited-pune-2-to-3-yrs-jobid-OHwfF0d6EhNzpSvf__PLUS__uAgZw==&source=srp\n",
      "\n",
      "Company Name :GEMINI SOFTWARE SOLUTIONS\n",
      "Required Skills:python,mobile,svn,nosql,python scripting,git,sql database\n",
      "More Info: https://www.timesjobs.com/job-detail/qa-python-python-sdet-gemini-software-solutions-gurgaon-4-to-7-yrs-jobid-jsOuZLK8chlzpSvf__PLUS__uAgZw==&source=srp\n",
      "\n",
      "Company Name :Gemini Solutions\n",
      "Required Skills:python,mobile,svn,nosql,python scripting,git,api,sql database\n",
      "More Info: https://www.timesjobs.com/job-detail/qa-python-python-sdet-gemini-solutions-gurgaon-4-to-7-yrs-jobid-eGMLzwOk2QlzpSvf__PLUS__uAgZw==&source=srp\n",
      "\n",
      "Company Name :WHITE FORCE\n",
      "Required Skills:python,mobile,debugging\n",
      "More Info: https://www.timesjobs.com/job-detail/python-developer-white-force-chennai-2-to-4-yrs-jobid-hLnxtF76yRtzpSvf__PLUS__uAgZw==&source=srp\n",
      "\n",
      "Company Name :Angel and Genie\n",
      "Required Skills:python,security,debugging,opencv\n",
      "More Info: https://www.timesjobs.com/job-detail/python-developer-angel-and-genie-noida-greater-noida-3-to-6-yrs-jobid-Plg0JDJmGwFzpSvf__PLUS__uAgZw==&source=srp\n",
      "\n",
      "Company Name :FresherMart\n",
      "Required Skills:python,django, Django Framework\n",
      "More Info: https://www.timesjobs.com/job-detail/python-developer-freshermart-navi-mumbai-mumbai-0-to-1-yrs-jobid-PUYMPEa4NaFzpSvf__PLUS__uAgZw==&source=srp\n",
      "\n"
     ]
    }
   ],
   "source": [
    "jobs=soup.find_all('li',class_=\"clearfix job-bx wht-shd-bx\")\n",
    "for job in jobs:\n",
    "    published_date=job.find('span',class_=\"sim-posted\").text\n",
    "    if 'few' in published_date:\n",
    "        company_name=job.find('h3',class_=\"joblist-comp-name\").text.replace('  ','')\n",
    "        skills=job.find('span',class_=\"srp-skills\").text.replace('  ','')\n",
    "        more_info=job.header.h2.a['href']\n",
    "        print(f\"Company Name :{company_name.strip()}\")\n",
    "        print(f\"Required Skills:{skills.strip()}\")\n",
    "        print(f\"More Info: {more_info}\")\n",
    "        print()\n"
   ]
  },
  {
   "cell_type": "markdown",
   "id": "07e72822",
   "metadata": {},
   "source": [
    "### Filtering Out the Jobs which we are not familiar with "
   ]
  },
  {
   "cell_type": "code",
   "execution_count": 10,
   "id": "693e09ee",
   "metadata": {},
   "outputs": [
    {
     "name": "stdout",
     "output_type": "stream",
     "text": [
      "Enter the skills which you are not familiar with \n",
      ">django\n",
      "Filtering out Non Familiar Skills:django\n",
      "Company Name :Surya Informatics Solutions Pvt. Ltd.\n",
      "Required Skills:python,web technologies,linux,mobile,mysql,angularjs,javascript\n",
      "More Info: https://www.timesjobs.com/job-detail/python-surya-informatics-solutions-pvt-ltd-chennai-0-to-3-yrs-jobid-UVlLes58wutzpSvf__PLUS__uAgZw==&source=srp\n",
      "\n",
      "Company Name :GEMINI SOFTWARE SOLUTIONS\n",
      "Required Skills:python,mobile,svn,nosql,python scripting,git,sql database\n",
      "More Info: https://www.timesjobs.com/job-detail/qa-python-python-sdet-gemini-software-solutions-gurgaon-4-to-7-yrs-jobid-jsOuZLK8chlzpSvf__PLUS__uAgZw==&source=srp\n",
      "\n",
      "Company Name :Gemini Solutions\n",
      "Required Skills:python,mobile,svn,nosql,python scripting,git,api,sql database\n",
      "More Info: https://www.timesjobs.com/job-detail/qa-python-python-sdet-gemini-solutions-gurgaon-4-to-7-yrs-jobid-eGMLzwOk2QlzpSvf__PLUS__uAgZw==&source=srp\n",
      "\n",
      "Company Name :WHITE FORCE\n",
      "Required Skills:python,mobile,debugging\n",
      "More Info: https://www.timesjobs.com/job-detail/python-developer-white-force-chennai-2-to-4-yrs-jobid-hLnxtF76yRtzpSvf__PLUS__uAgZw==&source=srp\n",
      "\n",
      "Company Name :Angel and Genie\n",
      "Required Skills:python,security,debugging,opencv\n",
      "More Info: https://www.timesjobs.com/job-detail/python-developer-angel-and-genie-noida-greater-noida-3-to-6-yrs-jobid-Plg0JDJmGwFzpSvf__PLUS__uAgZw==&source=srp\n",
      "\n"
     ]
    }
   ],
   "source": [
    "print(\"Enter the skills which you are not familiar with \")\n",
    "not_familiar_with_skill=input('>')\n",
    "print(f\"Filtering out Non Familiar Skills:{not_familiar_with_skill}\")\n",
    "jobs=soup.find_all('li',class_=\"clearfix job-bx wht-shd-bx\")\n",
    "for job in jobs:\n",
    "    published_date=job.find('span',class_=\"sim-posted\").text\n",
    "    if 'few' in published_date:\n",
    "        company_name=job.find('h3',class_=\"joblist-comp-name\").text.replace('  ','')\n",
    "        skills=job.find('span',class_=\"srp-skills\").text.replace('  ','')\n",
    "        more_info=job.header.h2.a['href']\n",
    "        if not_familiar_with_skill not in skills:\n",
    "            print(f\"Company Name :{company_name.strip()}\")\n",
    "            print(f\"Required Skills:{skills.strip()}\")\n",
    "            print(f\"More Info: {more_info}\")\n",
    "            print()\n"
   ]
  },
  {
   "cell_type": "markdown",
   "id": "7bda2fe6",
   "metadata": {},
   "source": [
    "### Storing the results in different text files "
   ]
  },
  {
   "cell_type": "code",
   "execution_count": 11,
   "id": "1e005642",
   "metadata": {},
   "outputs": [
    {
     "name": "stdout",
     "output_type": "stream",
     "text": [
      "Enter the skills which you are not familiar with \n",
      ">sql database\n",
      "Filtering out Non Familiar Skills:sql database\n",
      "\n",
      "file saved as :job0.txt\n",
      "\n",
      "file saved as :job1.txt\n",
      "\n",
      "file saved as :job10.txt\n",
      "\n",
      "file saved as :job11.txt\n",
      "\n",
      "file saved as :job13.txt\n"
     ]
    }
   ],
   "source": [
    "print(\"Enter the skills which you are not familiar with \")\n",
    "not_familiar_with_skill=input('>')\n",
    "print(f\"Filtering out Non Familiar Skills:{not_familiar_with_skill}\")\n",
    "jobs=soup.find_all('li',class_=\"clearfix job-bx wht-shd-bx\")\n",
    "for index,job in enumerate(jobs):\n",
    "    published_date=job.find('span',class_=\"sim-posted\").text\n",
    "    if 'few' in published_date:\n",
    "        company_name=job.find('h3',class_=\"joblist-comp-name\").text.replace('  ','')\n",
    "        skills=job.find('span',class_=\"srp-skills\").text.replace('  ','')\n",
    "        more_info=job.header.h2.a['href']\n",
    "        if not_familiar_with_skill not in skills:\n",
    "            with open(f'posts/job{index}.txt','w') as f:\n",
    "                f.write(f\"Company Name :{company_name.strip()} \\n\")\n",
    "                f.write(f\"Required Skills:{skills.strip()} \\n\")\n",
    "                f.write(f\"More Info: {more_info} \\n\")\n",
    "                print()\n",
    "            print(f\"file saved as :job{index}.txt\")\n",
    "\n"
   ]
  }
 ],
 "metadata": {
  "kernelspec": {
   "display_name": "Python 3",
   "language": "python",
   "name": "python3"
  },
  "language_info": {
   "codemirror_mode": {
    "name": "ipython",
    "version": 3
   },
   "file_extension": ".py",
   "mimetype": "text/x-python",
   "name": "python",
   "nbconvert_exporter": "python",
   "pygments_lexer": "ipython3",
   "version": "3.7.10"
  }
 },
 "nbformat": 4,
 "nbformat_minor": 5
}
